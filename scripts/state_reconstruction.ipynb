{
 "cells": [
  {
   "cell_type": "markdown",
   "metadata": {},
   "source": [
    "# State reconstruction tutorial\n",
    "\n",
    "* Create package objects required for state estimation\n",
    "* Reconstruct site-resolved fluorescence\n",
    "* **Make sure you have run the tutorial `image_generation.ipynb`**"
   ]
  },
  {
   "cell_type": "code",
   "execution_count": null,
   "metadata": {},
   "outputs": [],
   "source": [
    "import state_reconstruction as srec\n",
    "\n",
    "import json\n",
    "import os\n",
    "\n",
    "from libics.env import DIR_DESKTOP\n",
    "from libics.core import io\n",
    "from libics.tools import plot"
   ]
  },
  {
   "cell_type": "markdown",
   "metadata": {},
   "source": [
    "## Package configuration"
   ]
  },
  {
   "cell_type": "markdown",
   "metadata": {},
   "source": [
    "**The `state_reconstruction` package configuration**\n",
    "\n",
    "* can be read as follows\n",
    "* and can be altered by overwriting the appropriate parameters in the configuration file located at `~/.libics/state_estimation/config.json`, where `~` indicates the user folder (e.g. `C:/Users/<my_user_name>`"
   ]
  },
  {
   "cell_type": "code",
   "execution_count": null,
   "metadata": {},
   "outputs": [],
   "source": [
    "srec.get_config()"
   ]
  },
  {
   "cell_type": "markdown",
   "metadata": {},
   "source": [
    "**Files generated using this tutorial**\n",
    "\n",
    "* are saved to the desktop with the following file name\n",
    "* and may be used by other tutorials"
   ]
  },
  {
   "cell_type": "code",
   "execution_count": null,
   "metadata": {},
   "outputs": [],
   "source": [
    "DEMO_FILENAME = \"srec_demo\""
   ]
  },
  {
   "cell_type": "markdown",
   "metadata": {},
   "source": [
    "## Load prerequisites"
   ]
  },
  {
   "cell_type": "markdown",
   "metadata": {},
   "source": [
    "**Load affine transformation object**"
   ]
  },
  {
   "cell_type": "code",
   "execution_count": null,
   "metadata": {},
   "outputs": [],
   "source": [
    "filepath_trafo_site_to_image = os.path.join(DIR_DESKTOP, DEMO_FILENAME + \"_trafo.json\")\n",
    "trafo_site_to_image = io.load(filepath_trafo_site_to_image)\n",
    "trafo_site_to_image"
   ]
  },
  {
   "cell_type": "code",
   "execution_count": null,
   "metadata": {},
   "outputs": [],
   "source": [
    "phase_ref_image = srec.get_config(\"trafo_gen.phase_ref_image\")\n",
    "phase_ref_site = srec.get_config(\"trafo_gen.phase_ref_site\")\n",
    "phase_ref_image, phase_ref_site"
   ]
  },
  {
   "cell_type": "markdown",
   "metadata": {},
   "source": [
    "**Load PSF object**"
   ]
  },
  {
   "cell_type": "code",
   "execution_count": null,
   "metadata": {},
   "outputs": [],
   "source": [
    "filepath_ipsf_gen = os.path.join(DIR_DESKTOP, DEMO_FILENAME + \"_psf.json\")\n",
    "ipsf_gen = srec.IntegratedPsfGenerator.load(filepath_ipsf_gen)\n",
    "ipsf_gen"
   ]
  },
  {
   "cell_type": "markdown",
   "metadata": {},
   "source": [
    "**Load image to be reconstructed**"
   ]
  },
  {
   "cell_type": "code",
   "execution_count": null,
   "metadata": {},
   "outputs": [],
   "source": [
    "demo_image = io.load(\n",
    "    os.path.join(DIR_DESKTOP, DEMO_FILENAME + \"_image-dense.png\")\n",
    ")\n",
    "demo_occ = io.load(\n",
    "    os.path.join(DIR_DESKTOP, DEMO_FILENAME + \"_occ-dense.json\")\n",
    ")"
   ]
  },
  {
   "cell_type": "markdown",
   "metadata": {},
   "source": [
    "## Image preprocessor"
   ]
  },
  {
   "cell_type": "markdown",
   "metadata": {},
   "source": [
    "**Create demo image with outliers**\n",
    "\n",
    "* Occasionally, the camera sensor picks up a high-energy event, resulting in a local outlier\n",
    "* The `ImagePreprocessor` object removes the affected areas to enable reconstruction of the rest of the image"
   ]
  },
  {
   "cell_type": "code",
   "execution_count": null,
   "metadata": {},
   "outputs": [],
   "source": [
    "demo_image_outlier = demo_image.copy()\n",
    "demo_image_outlier[150:153, 200:202] += 1e4\n",
    "\n",
    "plt_roi = (slice(130, -130), slice(130, -130))\n",
    "\n",
    "fig, axs = plot.subplots(figsize=(11, 3), ncols=3)\n",
    "plot.pcolorim(\n",
    "    demo_image_outlier[plt_roi], ax=axs[0], title=\"w/ outlier (full scale)\",\n",
    "    cmap=\"hot\", vmin=0, vmax=None, colorbar=True,\n",
    ")\n",
    "plot.pcolorim(\n",
    "    demo_image_outlier[plt_roi], ax=axs[1], title=\"w/ outlier (reduced scale)\",\n",
    "    cmap=\"hot\", vmin=0, vmax=1100, colorbar=True,\n",
    ")\n",
    "plot.pcolorim(\n",
    "    demo_image[plt_roi], ax=axs[2], title=\"w/o outlier (full scale)\",\n",
    "    cmap=\"hot\", vmin=0, vmax=1100, colorbar=True,\n",
    ")\n",
    "plot.style_figure(tight_layout=True)"
   ]
  },
  {
   "cell_type": "markdown",
   "metadata": {},
   "source": [
    "**Create image preprocessor object**"
   ]
  },
  {
   "cell_type": "code",
   "execution_count": null,
   "metadata": {},
   "outputs": [],
   "source": [
    "img_preproc = srec.ImagePreprocessor()\n",
    "img_preproc"
   ]
  },
  {
   "cell_type": "markdown",
   "metadata": {},
   "source": [
    "**Demo for outlier removal**"
   ]
  },
  {
   "cell_type": "code",
   "execution_count": null,
   "metadata": {},
   "outputs": [],
   "source": [
    "demo_image_outlier_removed, outlier_ratio = (\n",
    "    img_preproc.process_image(demo_image_outlier)\n",
    ")\n",
    "\n",
    "print(outlier_ratio)\n",
    "plt_roi = (slice(130, -130), slice(130, -130))\n",
    "\n",
    "fig, axs = plot.subplots(figsize=(11, 3), ncols=3)\n",
    "plot.pcolorim(\n",
    "    demo_image_outlier[plt_roi], ax=axs[0], title=\"w/ outlier (full scale)\",\n",
    "    cmap=\"hot\", vmin=0, vmax=None, colorbar=True,\n",
    ")\n",
    "plot.pcolorim(\n",
    "    demo_image_outlier_removed[plt_roi], ax=axs[1], title=\"rmvd. outlier (full scale)\",\n",
    "    cmap=\"hot\", vmin=0, vmax=None, colorbar=True,\n",
    ")\n",
    "plot.pcolorim(\n",
    "    demo_image[plt_roi], ax=axs[2], title=\"w/o outlier (full scale)\",\n",
    "    cmap=\"hot\", vmin=0, vmax=1100, colorbar=True,\n",
    ")\n",
    "plot.style_figure(tight_layout=True)"
   ]
  },
  {
   "cell_type": "markdown",
   "metadata": {},
   "source": [
    "## Projector generator"
   ]
  },
  {
   "cell_type": "markdown",
   "metadata": {},
   "source": [
    "**Instantiate the projector generator object**\n",
    "\n",
    "* This takes into account overlapping PSFs\n",
    "* and projects the emitted fluorescence of each lattice site into site space"
   ]
  },
  {
   "cell_type": "code",
   "execution_count": null,
   "metadata": {},
   "outputs": [],
   "source": [
    "proj_gen = srec.ProjectorGenerator(\n",
    "    trafo_site_to_image=trafo_site_to_image,\n",
    "    integrated_psf_generator=ipsf_gen,\n",
    "    proj_shape=(61, 61)\n",
    ")\n",
    "proj_gen"
   ]
  },
  {
   "cell_type": "markdown",
   "metadata": {},
   "source": [
    "**Set up cache**\n",
    "\n",
    "* Calculating the projection matrices is a time-consuming process\n",
    "* The `state_reconstruction` package therefore pre-calculates the required projectors\n",
    "* The cache directory can be set in the package configuration"
   ]
  },
  {
   "cell_type": "code",
   "execution_count": null,
   "metadata": {},
   "outputs": [],
   "source": [
    "# Check projector cache directory\n",
    "srec.get_config(\"projector_cache_dir\")"
   ]
  },
  {
   "cell_type": "code",
   "execution_count": null,
   "metadata": {},
   "outputs": [],
   "source": [
    "# Pre-calculate projectors (this may take up to a few minutes)\n",
    "proj_gen.setup_cache(print_progress=True)\n",
    "\n",
    "# If you execute this cell again, this should run instantaneously due to caching"
   ]
  },
  {
   "cell_type": "markdown",
   "metadata": {},
   "source": [
    "**Demo projector**\n",
    "\n",
    "* Calculating the scalar product between projector and image yields the emission of a given site\n",
    "* To account for overlapping PSFs, the projector also contains negative values"
   ]
  },
  {
   "cell_type": "code",
   "execution_count": null,
   "metadata": {},
   "outputs": [],
   "source": [
    "demo_proj = proj_gen.generate_projector()\n",
    "\n",
    "plot.pcolorim(\n",
    "    demo_proj,\n",
    "    cmap=\"RdBu_r\", vcen=0, vdif=True, colorbar=True\n",
    ")"
   ]
  },
  {
   "cell_type": "markdown",
   "metadata": {},
   "source": [
    "## Emission histogram analysis"
   ]
  },
  {
   "cell_type": "markdown",
   "metadata": {},
   "source": [
    "**Create emission histogram analysis object**\n",
    "\n",
    "* After projection, we obtain a fluorescence emission value for each lattice site\n",
    "* We then have to distinguish filled from non-filled sites\n",
    "* This is achieved by analyzing a histogram comprising fitting the background and emission peaks"
   ]
  },
  {
   "cell_type": "code",
   "execution_count": null,
   "metadata": {},
   "outputs": [],
   "source": [
    "eha = srec.EmissionHistogramAnalysis()\n",
    "eha"
   ]
  },
  {
   "cell_type": "markdown",
   "metadata": {},
   "source": [
    "## Perform reconstruction"
   ]
  },
  {
   "cell_type": "markdown",
   "metadata": {},
   "source": [
    "**Create state estimator object**\n",
    "\n",
    "* This object automatically handles all previous steps to reconstruct the site-resolved emission state"
   ]
  },
  {
   "cell_type": "code",
   "execution_count": null,
   "metadata": {},
   "outputs": [],
   "source": [
    "sites_shape = (170, 170)\n",
    "\n",
    "sest = srec.StateEstimator(\n",
    "    id=DEMO_FILENAME,\n",
    "    image_preprocessor=img_preproc,\n",
    "    phase_ref_image=phase_ref_image,\n",
    "    phase_ref_site=phase_ref_site,\n",
    "    trafo_site_to_image=trafo_site_to_image,\n",
    "    projector_generator=proj_gen,\n",
    "    sites_shape=sites_shape,\n",
    "    emission_histogram_analysis=eha,\n",
    ")\n",
    "sest"
   ]
  },
  {
   "cell_type": "markdown",
   "metadata": {},
   "source": [
    "**Reconstruct sample images**\n",
    "\n",
    "* (Please ignore warnings from the `libics.tools.math` modules)"
   ]
  },
  {
   "cell_type": "code",
   "execution_count": null,
   "metadata": {},
   "outputs": [],
   "source": [
    "# Perform reconstruction\n",
    "res = sest.reconstruct(demo_image)\n",
    "\n",
    "# Plot reconstruction results\n",
    "_ = srec.plot_reconstruction_results(\n",
    "    sest, res, demo_image\n",
    ")"
   ]
  },
  {
   "cell_type": "code",
   "execution_count": null,
   "metadata": {},
   "outputs": [],
   "source": [
    "# Check reconstruction fidelity\n",
    "fig, axs = plot.subplots(figsize=(14, 3), ncols=4)\n",
    "plt_roi = (slice(65, -65), slice(65, -65))\n",
    "\n",
    "plot.pcolorim(\n",
    "    res.emissions[plt_roi], ax=axs[0],\n",
    "    colorbar=True, vmin=0, title=\"Projected emissions\"\n",
    ")\n",
    "plot.pcolorim(\n",
    "    res.state[plt_roi], ax=axs[1],\n",
    "    colorbar=True, vmin=0, vmax=2, title=\"Reconstructed occupation\"\n",
    ")\n",
    "plot.pcolorim(\n",
    "    demo_occ[plt_roi], ax=axs[2],\n",
    "    colorbar=True, vmin=0, vmax=2, title=\"Actual occupation\"\n",
    ")\n",
    "plot.pcolorim(\n",
    "    (res.state - demo_occ)[plt_roi], ax=axs[3],\n",
    "    cmap=\"RdBu_r\", colorbar=True, vcen=0, vdif=1, title=\"Occupation difference\"\n",
    ")\n",
    "plot.style_figure(tight_layout=True)"
   ]
  },
  {
   "cell_type": "markdown",
   "metadata": {},
   "source": [
    "**Save state estimator object**\n",
    "\n",
    "* So far, the `StateEstimator` object cannot be automatically saved to a file yet\n",
    "* However, it is possible to load the object from a configuration file\n",
    "* Recursive object reconstruction is also supported:\n",
    "  * This means that a dictionary can be passed for each required attribute\n",
    "  * The dictionary is then used to construct the respective object\n",
    "  * The passed values overwrite default values\n",
    "  * For more complex objects, we can often alternatively pass a file path, from which the object is read\n",
    "* An example configuration file for the object above would look as follows"
   ]
  },
  {
   "cell_type": "code",
   "execution_count": null,
   "metadata": {},
   "outputs": [],
   "source": [
    "_sest_config_dict = {\n",
    "    # ID of the state estimator object\n",
    "    \"id\": sest.id,\n",
    "    # Image preprocessor (default)\n",
    "    \"image_preprocessor\": {\n",
    "    },\n",
    "    # Lattice phase reference\n",
    "    \"phase_ref_site\": phase_ref_site,\n",
    "    \"phase_ref_image\": phase_ref_image,\n",
    "    # Trafo object\n",
    "    \"trafo_site_to_image\": filepath_trafo_site_to_image,\n",
    "    # Projector generator object\n",
    "    \"projector_generator\": {\n",
    "        \"integrated_psf_generator\": filepath_ipsf_gen,\n",
    "        \"proj_shape\": sest.proj_shape\n",
    "    },\n",
    "    # Reconstructed sites shape\n",
    "    \"sites_shape\": sites_shape,\n",
    "    # Emission histogram analysis object (default)\n",
    "    \"emission_histogram_analysis\": {\n",
    "    }\n",
    "}\n",
    "_sest_config_dict"
   ]
  },
  {
   "cell_type": "code",
   "execution_count": null,
   "metadata": {},
   "outputs": [],
   "source": [
    "# Write state estimator configuration file\n",
    "with open(\n",
    "    os.path.join(DIR_DESKTOP, DEMO_FILENAME + \"_state-estimator.json\"), \"w\"\n",
    ") as _f:\n",
    "    json.dump(_sest_config_dict, _f, indent=4)"
   ]
  },
  {
   "cell_type": "code",
   "execution_count": null,
   "metadata": {},
   "outputs": [],
   "source": [
    "# Construct state estimator object from configuration file\n",
    "sest = srec.StateEstimator.from_config(\n",
    "    config=os.path.join(DIR_DESKTOP, DEMO_FILENAME + \"_state-estimator.json\")\n",
    ")\n",
    "sest"
   ]
  },
  {
   "cell_type": "markdown",
   "metadata": {},
   "source": [
    "**Default configuration directory**\n",
    "\n",
    "* There exists a much more convenient directory to store the state estimator configuration files\n",
    "* Configurations are then easily discoverable and can be loaded without specifying a full file path\n",
    "* It is customary to set the configuration file name to the state estimator ID"
   ]
  },
  {
   "cell_type": "code",
   "execution_count": null,
   "metadata": {},
   "outputs": [],
   "source": [
    "default_config_folder = srec.get_config(\"state_estimator_config_dir\")\n",
    "if not os.path.exists(default_config_folder):\n",
    "    os.makedirs(default_config_folder)\n",
    "default_config_folder"
   ]
  },
  {
   "cell_type": "code",
   "execution_count": null,
   "metadata": {},
   "outputs": [],
   "source": [
    "# Write state estimator configuration file\n",
    "with open(\n",
    "    os.path.join(default_config_folder, sest.id + \".json\"), \"w\"\n",
    ") as _f:\n",
    "    json.dump(_sest_config_dict, _f, indent=4)"
   ]
  },
  {
   "cell_type": "code",
   "execution_count": null,
   "metadata": {},
   "outputs": [],
   "source": [
    "# Easily search for state estimator configurations\n",
    "srec.StateEstimator.discover_configs()"
   ]
  },
  {
   "cell_type": "code",
   "execution_count": null,
   "metadata": {},
   "outputs": [],
   "source": [
    "# Load state estimator object\n",
    "srec.StateEstimator.from_config(config=sest.id)"
   ]
  },
  {
   "cell_type": "code",
   "execution_count": null,
   "metadata": {},
   "outputs": [],
   "source": []
  }
 ],
 "metadata": {
  "kernelspec": {
   "display_name": "Python 3",
   "language": "python",
   "name": "python3"
  },
  "language_info": {
   "codemirror_mode": {
    "name": "ipython",
    "version": 3
   },
   "file_extension": ".py",
   "mimetype": "text/x-python",
   "name": "python",
   "nbconvert_exporter": "python",
   "pygments_lexer": "ipython3",
   "version": "3.8.2"
  }
 },
 "nbformat": 4,
 "nbformat_minor": 4
}
